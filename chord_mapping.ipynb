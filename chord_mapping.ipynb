{
 "cells": [
  {
   "cell_type": "markdown",
   "metadata": {},
   "source": [
    "### Intervals for Chords:\n",
    "- **Major**: root, major third, perfect fifth\n",
    "- **Minor**: root, minor third, perfect fifth\n",
    "- **5th**: root, perfect fifth\n",
    "- **7th**: root, major third, perfect fifth, minor seventh\n",
    "- **Minor 7th**: root, minor third, perfect fifth, minor seventh\n",
    "- **Major 7th**: root, major third, perfect fifth, major seventh\n",
    "- **6th**: root, major third, perfect fifth, major sixth\n",
    "- **Minor 6th**: root, minor third, perfect fifth, major sixth\n",
    "- **Add2**: root, major second, major third, perfect fifth\n",
    "- **Add9**: root, major third, perfect fifth, major ninth\n",
    "- **Sus2**: root, major second, perfect fifth\n",
    "- **Sus4**: root, perfect fourth, perfect fifth\n"
   ]
  },
  {
   "cell_type": "code",
   "execution_count": 17,
   "metadata": {},
   "outputs": [],
   "source": [
    "intervals = {\n",
    "    'M': [0, 4, 7],\n",
    "    'min': [0, 3, 7],\n",
    "    '5': [0, 7],\n",
    "    '7dom': [0, 4, 7, 10],\n",
    "    'minor7': [0, 3, 7, 10],\n",
    "    'maj7': [0, 4, 7, 11],\n",
    "    '6': [0, 4, 7, 9],\n",
    "    'min6': [0, 3, 7, 9],\n",
    "    'add2': [0, 2, 4, 7],\n",
    "    'add9': [0, 4, 7, 14],\n",
    "    'sus2': [0, 2, 7],\n",
    "    'sus4': [0, 5, 7]\n",
    "}\n",
    "\n",
    "# Note names in a chromatic scale\n"
   ]
  },
  {
   "cell_type": "code",
   "execution_count": 13,
   "metadata": {},
   "outputs": [],
   "source": [
    "notes = ['C', 'C#', 'D', 'D#', 'E', 'F', 'F#', 'G', 'G#', 'A', 'A#', 'B']\n",
    "def generate_chord_dict():\n",
    "    chord_dict = {}\n",
    "    for root in notes:\n",
    "        root_index = notes.index(root)\n",
    "        for chord_type, interval_list in intervals.items():\n",
    "            chord_name = root\n",
    "            if chord_type != 'major':\n",
    "                chord_name += chord_type\n",
    "            chord_notes = [notes[(root_index + interval) % 12] for interval in interval_list]\n",
    "            chord_dict[chord_name] = chord_notes\n",
    "    return chord_dict"
   ]
  },
  {
   "cell_type": "code",
   "execution_count": 14,
   "metadata": {},
   "outputs": [],
   "source": [
    "def find_chord(notes, chord_dict):\n",
    "    notes_set = set(notes)\n",
    "    for chord, chord_notes in chord_dict.items():\n",
    "        if notes_set == set(chord_notes):\n",
    "            return f\"Chord: {chord}\"\n",
    "    return \"No matching chord found\""
   ]
  },
  {
   "cell_type": "code",
   "execution_count": 19,
   "metadata": {},
   "outputs": [
    {
     "name": "stdout",
     "output_type": "stream",
     "text": [
      "Chord: C5\n",
      "Chord: Cmin\n",
      "Chord: E5\n"
     ]
    }
   ],
   "source": [
    "chord_dict = generate_chord_dict()\n",
    "\n",
    "# Example usage\n",
    "input_notes1 = ['C', 'G']\n",
    "input_notes2 = ['C', 'D#', 'G']\n",
    "input_notes3 = ['E', 'B']\n",
    "\n",
    "print(find_chord(input_notes1, chord_dict))  # Output: Chord: C5\n",
    "print(find_chord(input_notes2, chord_dict))  # Output: Chord: C\n",
    "print(find_chord(input_notes3, chord_dict))  # Output: Chord: Cmaj7"
   ]
  }
 ],
 "metadata": {
  "kernelspec": {
   "display_name": "Python 3",
   "language": "python",
   "name": "python3"
  },
  "language_info": {
   "codemirror_mode": {
    "name": "ipython",
    "version": 3
   },
   "file_extension": ".py",
   "mimetype": "text/x-python",
   "name": "python",
   "nbconvert_exporter": "python",
   "pygments_lexer": "ipython3",
   "version": "3.12.3"
  }
 },
 "nbformat": 4,
 "nbformat_minor": 2
}
