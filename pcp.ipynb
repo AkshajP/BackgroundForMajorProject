{
 "cells": [
  {
   "cell_type": "code",
   "execution_count": 26,
   "metadata": {},
   "outputs": [],
   "source": [
    "import librosa"
   ]
  },
  {
   "cell_type": "code",
   "execution_count": 27,
   "metadata": {},
   "outputs": [
    {
     "data": {
      "text/plain": [
       "(array([-0.00077708,  0.00042842,  0.00400972, ...,  0.        ,\n",
       "         0.        ,  0.        ], dtype=float32),\n",
       " 22050)"
      ]
     },
     "execution_count": 27,
     "metadata": {},
     "output_type": "execute_result"
    }
   ],
   "source": [
    "audio_file = 'E:\\\\E-RVITM\\\\Notes\\\\6th Sem\\\\Major project\\\\My codes\\\\datasetmini\\\\audio-mixes\\\\0001_mix.mp3'\n",
    "y, sr = librosa.load(audio_file)\n",
    "y,sr"
   ]
  },
  {
   "cell_type": "code",
   "execution_count": 28,
   "metadata": {},
   "outputs": [
    {
     "name": "stdout",
     "output_type": "stream",
     "text": [
      "Tempo: [92.28515625]\n",
      "Start Time: [2.60063492] seconds, End Time: [3.25079365] seconds\n"
     ]
    }
   ],
   "source": [
    "tempo, beat_frames = librosa.beat.beat_track(y=y, sr=sr)\n",
    "beat_duration = 60 / tempo \n",
    "def get_times(bar_count: int, quarter_count: int, beat_duration: float):\n",
    "    start_time = (bar_count - 1) * 4 * beat_duration + (quarter_count - 1) * beat_duration\n",
    "    end_time = start_time + beat_duration  # End time is one beat later (i.e., next quarter note)\n",
    "    return start_time, end_time\n",
    "bar_count = 2\n",
    "quarter_count = 1\n",
    "start_time, end_time = get_times(bar_count, quarter_count, beat_duration)\n",
    "print(f'Tempo: {tempo}')\n",
    "print(f\"Start Time: {start_time} seconds, End Time: {end_time} seconds\")\n"
   ]
  },
  {
   "cell_type": "markdown",
   "metadata": {},
   "source": [
    "for 2,1 bar and quarter count :\n",
    "```2.6086957,2,1,'A#maj' ```\n",
    " is given in annotations, which is pretty close **but not the same**\n",
    "\n",
    " but if tempo is rounded off to the nearest integer, we get the exact durations (atleast for first 4 decimals)"
   ]
  },
  {
   "cell_type": "code",
   "execution_count": 31,
   "metadata": {},
   "outputs": [
    {
     "name": "stdout",
     "output_type": "stream",
     "text": [
      "Tempo: 92\n",
      "Start Time: 2.608696 seconds, End Time: 3.260870 seconds\n"
     ]
    }
   ],
   "source": [
    "tempo_new = int(tempo[0])\n",
    "print(f'Tempo: {tempo_new}')\n",
    "start_new, end_new = get_times(bar_count, quarter_count, 60/tempo_new)\n",
    "print(f\"Start Time: {start_new:.6f} seconds, End Time: {end_new:.6f} seconds\")"
   ]
  },
  {
   "cell_type": "code",
   "execution_count": 36,
   "metadata": {},
   "outputs": [
    {
     "name": "stderr",
     "output_type": "stream",
     "text": [
      "c:\\Users\\Akshaj\\AppData\\Local\\Programs\\Python\\Python311\\Lib\\site-packages\\librosa\\core\\spectrum.py:266: UserWarning: n_fft=1024 is too large for input signal of length=896\n",
      "  warnings.warn(\n",
      "c:\\Users\\Akshaj\\AppData\\Local\\Programs\\Python\\Python311\\Lib\\site-packages\\librosa\\core\\spectrum.py:266: UserWarning: n_fft=1024 is too large for input signal of length=448\n",
      "  warnings.warn(\n",
      "c:\\Users\\Akshaj\\AppData\\Local\\Programs\\Python\\Python311\\Lib\\site-packages\\librosa\\core\\spectrum.py:266: UserWarning: n_fft=1024 is too large for input signal of length=224\n",
      "  warnings.warn(\n"
     ]
    }
   ],
   "source": [
    "\n",
    "start_sample = int(start_time[0] * sr)\n",
    "end_sample = int(end_time[0] * sr)\n",
    "audio_chunk = y[start_sample:end_sample]\n",
    "pcp_vector = librosa.feature.chroma_cqt(y=audio_chunk, sr=sr)"
   ]
  }
 ],
 "metadata": {
  "kernelspec": {
   "display_name": "Python 3",
   "language": "python",
   "name": "python3"
  },
  "language_info": {
   "codemirror_mode": {
    "name": "ipython",
    "version": 3
   },
   "file_extension": ".py",
   "mimetype": "text/x-python",
   "name": "python",
   "nbconvert_exporter": "python",
   "pygments_lexer": "ipython3",
   "version": "3.11.8"
  }
 },
 "nbformat": 4,
 "nbformat_minor": 2
}
