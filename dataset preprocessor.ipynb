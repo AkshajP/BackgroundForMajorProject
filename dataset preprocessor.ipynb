{
 "cells": [
  {
   "cell_type": "code",
   "execution_count": 1,
   "metadata": {},
   "outputs": [],
   "source": [
    "import os\n",
    "import pandas as pd\n",
    "from pcp_module import process_audio_and_save_pcp\n",
    "from tqdm import tqdm\n",
    "from concurrent.futures import ThreadPoolExecutor, as_completed"
   ]
  },
  {
   "cell_type": "code",
   "execution_count": null,
   "metadata": {},
   "outputs": [],
   "source": [
    "def process_annotation_file(annotation_file_path):\n",
    "    \"\"\"Process a single annotation file and return the processed DataFrame.\"\"\"\n",
    "    with open(annotation_file_path, 'r') as file:\n",
    "        lines = file.readlines()[7:]    \n",
    "        arff_content = [line.strip().strip(\"'\").split(\",\") for line in lines]\n",
    "    \n",
    "    annotations_df = pd.DataFrame(arff_content, columns=['start_time', 'bar', 'beat', 'chord'])\n",
    "    annotations_df['start_time'] = annotations_df['start_time'].astype(float)\n",
    "    annotations_df['bar'] = annotations_df['bar'].astype(int)\n",
    "    annotations_df['beat'] = annotations_df['beat'].astype(int)\n",
    "    annotations_df['chord'] = annotations_df['chord'].str.strip(\"'\")\n",
    "    annotations_df['end_time'] = annotations_df['start_time'].shift(-1)\n",
    "    annotations_df = annotations_df.ffill()\n",
    "    \n",
    "    return annotations_df\n",
    "\n",
    "def process_file_pair(args):\n",
    "    \"\"\"Process a pair of audio and annotation files.\"\"\"\n",
    "    audio_file_name, annotations_file_name, dataset_location, annotations_dir_loc, output_dir = args\n",
    "    try:\n",
    "        # Process annotation file\n",
    "        annotation_file_path = os.path.join(annotations_dir_loc, annotations_file_name)\n",
    "        annotations_df = process_annotation_file(annotation_file_path)\n",
    "        \n",
    "        # Process audio and save PCP\n",
    "        process_audio_and_save_pcp(audio_file_name, dataset_location, annotations_df, output_dir)\n",
    "        \n",
    "        return f\"Successfully processed {audio_file_name}\"\n",
    "    except Exception as e:\n",
    "        return f\"Error processing {audio_file_name}: {str(e)}\"\n",
    "\n",
    "def main():\n",
    "    # Configuration\n",
    "    dataset_location = \"./tinyaam/audio-mixes-mp3/\"\n",
    "    output_dir = 'pcpvectors'\n",
    "    annotations_dir_loc = \"./tinyaam/annotations/\"\n",
    "    \n",
    "    # Get file lists\n",
    "    audio_file_names = [file for root, dirs, files in os.walk(dataset_location) for file in files]\n",
    "    arff_files = [file for root, dirs, files in os.walk(annotations_dir_loc) \n",
    "                  for file in files if file.endswith('beatinfo.arff')]\n",
    "    \n",
    "    # Prepare arguments for parallel processing\n",
    "    process_args = [\n",
    "        (audio_file, arff_file, dataset_location, annotations_dir_loc, output_dir)\n",
    "        for audio_file, arff_file in zip(audio_file_names, arff_files)\n",
    "    ]\n",
    "    \n",
    "    # Calculate optimal number of workers\n",
    "    num_workers = min(len(process_args), os.cpu_count() * 2)  # 2 threads per CPU core\n",
    "    \n",
    "    # Process files in parallel with progress bar\n",
    "    with ThreadPoolExecutor(max_workers=num_workers) as executor:\n",
    "        # Submit all tasks\n",
    "        future_to_file = {\n",
    "            executor.submit(process_file_pair, args): args[0]\n",
    "            for args in process_args\n",
    "        }\n",
    "        \n",
    "        # Create progress bar\n",
    "        with tqdm(total=len(process_args), unit=' Files') as pbar:\n",
    "            for future in as_completed(future_to_file):\n",
    "                file_name = future_to_file[future]\n",
    "                try:\n",
    "                    result = future.result()\n",
    "                    if \"Error\" in result:\n",
    "                        print(f\"\\nWarning: {result}\")\n",
    "                except Exception as e:\n",
    "                    print(f\"\\nError processing {file_name}: {str(e)}\")\n",
    "                finally:\n",
    "                    pbar.update(1)\n",
    "\n",
    "if __name__ == \"__main__\":\n",
    "    main()"
   ]
  },
  {
   "cell_type": "code",
   "execution_count": 4,
   "metadata": {},
   "outputs": [
    {
     "name": "stderr",
     "output_type": "stream",
     "text": [
      "0 Files [00:00, ? Files/s]"
     ]
    },
    {
     "name": "stdout",
     "output_type": "stream",
     "text": [
      "Loading audio file: 0001_mix.mp3\n",
      "Audio loaded with sampling rate: 44100 Hz\n",
      "Samples per microsecond: 0.0441\n"
     ]
    },
    {
     "name": "stderr",
     "output_type": "stream",
     "text": [
      "183 segments [00:22,  8.14 segments/s]\n",
      "1 Files [00:24, 24.35s/ Files]"
     ]
    },
    {
     "name": "stdout",
     "output_type": "stream",
     "text": [
      "Processed: 0001_mix.mp3\n",
      "Loading audio file: 0080_mix.mp3\n",
      "Audio loaded with sampling rate: 44100 Hz\n",
      "Samples per microsecond: 0.0441\n"
     ]
    },
    {
     "name": "stderr",
     "output_type": "stream",
     "text": [
      "255 segments [00:18, 13.63 segments/s]\n",
      "2 Files [00:43, 21.09s/ Files]"
     ]
    },
    {
     "name": "stdout",
     "output_type": "stream",
     "text": [
      "Processed: 0080_mix.mp3\n",
      "Loading audio file: 0192_mix.mp3\n",
      "Audio loaded with sampling rate: 44100 Hz\n",
      "Samples per microsecond: 0.0441\n"
     ]
    },
    {
     "name": "stderr",
     "output_type": "stream",
     "text": [
      "215 segments [00:24,  8.82 segments/s]\n",
      "3 Files [01:07, 22.63s/ Files]"
     ]
    },
    {
     "name": "stdout",
     "output_type": "stream",
     "text": [
      "Processed: 0192_mix.mp3\n",
      "Loading audio file: 0620_mix.mp3\n",
      "Audio loaded with sampling rate: 44100 Hz\n",
      "Samples per microsecond: 0.0441\n"
     ]
    },
    {
     "name": "stderr",
     "output_type": "stream",
     "text": [
      "399 segments [00:40,  9.86 segments/s]\n",
      "4 Files [01:48, 29.72s/ Files]"
     ]
    },
    {
     "name": "stdout",
     "output_type": "stream",
     "text": [
      "Processed: 0620_mix.mp3\n",
      "Loading audio file: 0758_mix.mp3\n",
      "Audio loaded with sampling rate: 44100 Hz\n",
      "Samples per microsecond: 0.0441\n"
     ]
    },
    {
     "name": "stderr",
     "output_type": "stream",
     "text": [
      "287 segments [00:31,  9.23 segments/s]\n",
      "5 Files [02:19, 30.26s/ Files]"
     ]
    },
    {
     "name": "stdout",
     "output_type": "stream",
     "text": [
      "Processed: 0758_mix.mp3\n",
      "Loading audio file: 0989_mix.mp3\n",
      "Audio loaded with sampling rate: 44100 Hz\n",
      "Samples per microsecond: 0.0441\n"
     ]
    },
    {
     "name": "stderr",
     "output_type": "stream",
     "text": [
      "319 segments [00:34,  9.21 segments/s]\n",
      "6 Files [02:54, 31.79s/ Files]"
     ]
    },
    {
     "name": "stdout",
     "output_type": "stream",
     "text": [
      "Processed: 0989_mix.mp3\n",
      "Loading audio file: 1014_mix.mp3\n",
      "Audio loaded with sampling rate: 44100 Hz\n",
      "Samples per microsecond: 0.0441\n"
     ]
    },
    {
     "name": "stderr",
     "output_type": "stream",
     "text": [
      "335 segments [00:36,  9.24 segments/s]\n",
      "7 Files [03:30, 33.29s/ Files]"
     ]
    },
    {
     "name": "stdout",
     "output_type": "stream",
     "text": [
      "Processed: 1014_mix.mp3\n",
      "Loading audio file: 1050_mix.mp3\n",
      "Audio loaded with sampling rate: 44100 Hz\n",
      "Samples per microsecond: 0.0441\n"
     ]
    },
    {
     "name": "stderr",
     "output_type": "stream",
     "text": [
      "311 segments [00:33,  9.28 segments/s]\n",
      "8 Files [04:04, 33.40s/ Files]"
     ]
    },
    {
     "name": "stdout",
     "output_type": "stream",
     "text": [
      "Processed: 1050_mix.mp3\n",
      "Loading audio file: 1545_mix.mp3\n",
      "Audio loaded with sampling rate: 44100 Hz\n",
      "Samples per microsecond: 0.0441\n"
     ]
    },
    {
     "name": "stderr",
     "output_type": "stream",
     "text": [
      "255 segments [00:28,  9.05 segments/s]\n",
      "9 Files [04:32, 31.81s/ Files]"
     ]
    },
    {
     "name": "stdout",
     "output_type": "stream",
     "text": [
      "Processed: 1545_mix.mp3\n",
      "Loading audio file: 1711_mix.mp3\n",
      "Audio loaded with sampling rate: 44100 Hz\n",
      "Samples per microsecond: 0.0441\n"
     ]
    },
    {
     "name": "stderr",
     "output_type": "stream",
     "text": [
      "223 segments [00:25,  8.71 segments/s]\n",
      "10 Files [04:58, 29.93s/ Files]"
     ]
    },
    {
     "name": "stdout",
     "output_type": "stream",
     "text": [
      "Processed: 1711_mix.mp3\n",
      "Loading audio file: 1941_mix.mp3\n",
      "Audio loaded with sampling rate: 44100 Hz\n",
      "Samples per microsecond: 0.0441\n"
     ]
    },
    {
     "name": "stderr",
     "output_type": "stream",
     "text": [
      "295 segments [00:33,  8.71 segments/s]\n",
      "11 Files [05:32, 31.17s/ Files]"
     ]
    },
    {
     "name": "stdout",
     "output_type": "stream",
     "text": [
      "Processed: 1941_mix.mp3\n",
      "Loading audio file: 2269_mix.mp3\n",
      "Audio loaded with sampling rate: 44100 Hz\n",
      "Samples per microsecond: 0.0441\n"
     ]
    },
    {
     "name": "stderr",
     "output_type": "stream",
     "text": [
      "223 segments [00:28,  7.73 segments/s]\n",
      "12 Files [06:01, 30.51s/ Files]"
     ]
    },
    {
     "name": "stdout",
     "output_type": "stream",
     "text": [
      "Processed: 2269_mix.mp3\n",
      "Loading audio file: 2395_mix.mp3\n",
      "Audio loaded with sampling rate: 44100 Hz\n",
      "Samples per microsecond: 0.0441\n"
     ]
    },
    {
     "name": "stderr",
     "output_type": "stream",
     "text": [
      "351 segments [00:35,  9.90 segments/s]\n",
      "13 Files [06:36, 32.04s/ Files]"
     ]
    },
    {
     "name": "stdout",
     "output_type": "stream",
     "text": [
      "Processed: 2395_mix.mp3\n",
      "Loading audio file: 2462_mix.mp3\n",
      "Audio loaded with sampling rate: 44100 Hz\n",
      "Samples per microsecond: 0.0441\n"
     ]
    },
    {
     "name": "stderr",
     "output_type": "stream",
     "text": [
      "191 segments [00:27,  7.04 segments/s]\n",
      "14 Files [07:04, 30.59s/ Files]"
     ]
    },
    {
     "name": "stdout",
     "output_type": "stream",
     "text": [
      "Processed: 2462_mix.mp3\n",
      "Loading audio file: 2602_mix.mp3\n",
      "Audio loaded with sampling rate: 44100 Hz\n",
      "Samples per microsecond: 0.0441\n"
     ]
    },
    {
     "name": "stderr",
     "output_type": "stream",
     "text": [
      "343 segments [00:36,  9.50 segments/s]\n",
      "15 Files [07:40, 32.29s/ Files]"
     ]
    },
    {
     "name": "stdout",
     "output_type": "stream",
     "text": [
      "Processed: 2602_mix.mp3\n",
      "Loading audio file: 2720_mix.mp3\n",
      "Audio loaded with sampling rate: 44100 Hz\n",
      "Samples per microsecond: 0.0441\n"
     ]
    },
    {
     "name": "stderr",
     "output_type": "stream",
     "text": [
      "319 segments [00:33,  9.48 segments/s]\n",
      "16 Files [08:14, 32.73s/ Files]"
     ]
    },
    {
     "name": "stdout",
     "output_type": "stream",
     "text": [
      "Processed: 2720_mix.mp3\n",
      "Loading audio file: 2828_mix.mp3\n",
      "Audio loaded with sampling rate: 44100 Hz\n",
      "Samples per microsecond: 0.0441\n"
     ]
    },
    {
     "name": "stderr",
     "output_type": "stream",
     "text": [
      "231 segments [00:27,  8.40 segments/s]\n",
      "17 Files [08:41, 31.19s/ Files]"
     ]
    },
    {
     "name": "stdout",
     "output_type": "stream",
     "text": [
      "Processed: 2828_mix.mp3\n",
      "Loading audio file: 2841_mix.mp3\n",
      "Audio loaded with sampling rate: 44100 Hz\n",
      "Samples per microsecond: 0.0441\n"
     ]
    },
    {
     "name": "stderr",
     "output_type": "stream",
     "text": [
      "463 segments [00:45, 10.21 segments/s]\n",
      "18 Files [09:27, 35.48s/ Files]"
     ]
    },
    {
     "name": "stdout",
     "output_type": "stream",
     "text": [
      "Processed: 2841_mix.mp3\n",
      "Loading audio file: 2990_mix.mp3\n",
      "Audio loaded with sampling rate: 44100 Hz\n",
      "Samples per microsecond: 0.0441\n"
     ]
    },
    {
     "name": "stderr",
     "output_type": "stream",
     "text": [
      "367 segments [00:40,  9.00 segments/s]\n",
      "19 Files [10:08, 37.12s/ Files]"
     ]
    },
    {
     "name": "stdout",
     "output_type": "stream",
     "text": [
      "Processed: 2990_mix.mp3\n",
      "Loading audio file: 3000_mix.mp3\n",
      "Audio loaded with sampling rate: 44100 Hz\n",
      "Samples per microsecond: 0.0441\n"
     ]
    },
    {
     "name": "stderr",
     "output_type": "stream",
     "text": [
      "191 segments [00:23,  8.01 segments/s]\n",
      "20 Files [10:31, 31.60s/ Files]"
     ]
    },
    {
     "name": "stdout",
     "output_type": "stream",
     "text": [
      "Processed: 3000_mix.mp3\n"
     ]
    },
    {
     "name": "stderr",
     "output_type": "stream",
     "text": [
      "\n"
     ]
    }
   ],
   "source": [
    "dataset_location = \"./tinyaam/audio-mixes-mp3/\"\n",
    "output_dir = 'pcpvectorssingle'\n",
    "annotations_dir_loc = \"./tinyaam/annotations/\"\n",
    "\n",
    "audio_file_names = [file for root, dirs, files in os.walk(dataset_location) for file in files]\n",
    "arff_files = [file for root, dirs, files in os.walk(annotations_dir_loc) for file in files if file.endswith('beatinfo.arff')]\n",
    "for audio_file_name, annotations_file_name in tqdm(zip(audio_file_names, arff_files), unit=' Files'):\n",
    "    with open(os.path.join(annotations_dir_loc,annotations_file_name), 'r') as file:\n",
    "        lines = file.readlines()[7:]    \n",
    "        arff_content = [line.strip().strip(\"'\").split(\",\") for line in lines]\n",
    "    annotations_df = pd.DataFrame(arff_content, columns=['start_time', 'bar', 'beat', 'chord'])\n",
    "    annotations_df['start_time'] = annotations_df['start_time'].astype(float)\n",
    "    annotations_df['bar'] = annotations_df['bar'].astype(int)\n",
    "    annotations_df['beat'] = annotations_df['beat'].astype(int)\n",
    "    annotations_df['chord'] = annotations_df['chord'].str.strip(\"'\")\n",
    "    annotations_df['end_time'] = annotations_df['start_time'].shift(-1)\n",
    "    annotations_df = annotations_df.ffill()\n",
    "    process_audio_and_save_pcp(audio_file_name, dataset_location, annotations_df, output_dir)\n",
    "\n"
   ]
  }
 ],
 "metadata": {
  "kernelspec": {
   "display_name": "Python 3",
   "language": "python",
   "name": "python3"
  },
  "language_info": {
   "codemirror_mode": {
    "name": "ipython",
    "version": 3
   },
   "file_extension": ".py",
   "mimetype": "text/x-python",
   "name": "python",
   "nbconvert_exporter": "python",
   "pygments_lexer": "ipython3",
   "version": "3.11.8"
  }
 },
 "nbformat": 4,
 "nbformat_minor": 2
}
